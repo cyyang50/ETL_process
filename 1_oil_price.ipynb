{
 "cells": [
  {
   "cell_type": "code",
   "execution_count": 1,
   "id": "timely-supplement",
   "metadata": {},
   "outputs": [],
   "source": [
    "import pandas as pd\n",
    "import requests\n",
    "from bs4 import BeautifulSoup as bs"
   ]
  },
  {
   "cell_type": "code",
   "execution_count": 2,
   "id": "piano-conditioning",
   "metadata": {},
   "outputs": [],
   "source": [
    "USER_AGENT = (\n",
    "    'Mozilla/5.0 (X11; Linux x86_64)'\n",
    "    'AppleWebKit/537.36 (KHTML, like Gecko)'\n",
    "    'Chrome/90.0.4430.212 Safari/537.36'\n",
    ")\n",
    "  \n",
    "HEADERS = {'User-Agent': USER_AGENT}"
   ]
  },
  {
   "cell_type": "markdown",
   "id": "center-inquiry",
   "metadata": {},
   "source": [
    "## requests.get\n",
    "https://www.marketwatch.com/investing/future/cl00"
   ]
  },
  {
   "cell_type": "code",
   "execution_count": 3,
   "id": "documented-tennessee",
   "metadata": {},
   "outputs": [
    {
     "data": {
      "text/plain": [
       "b'\\n\\n\\n<!DOCTYPE html>\\n<html class=\"\">\\n<head>\\n        <title>MarketWatch: Stock Market News - Financial News - MarketWatch</title>\\n        <meta charset=\"utf-8\">\\n        <meta http-equiv=\"X-UA-Compatible\"'"
      ]
     },
     "execution_count": 3,
     "metadata": {},
     "output_type": "execute_result"
    }
   ],
   "source": [
    "website=\"https://www.marketwatch.com\"\n",
    "req_website= f\"{website}/investing/future/cl00/download-data?mod=mw_quote_tab\"\n",
    "page_html = requests.get(website, headers=HEADERS)\n",
    "page_html.content[0:200]"
   ]
  },
  {
   "cell_type": "markdown",
   "id": "owned-glasgow",
   "metadata": {},
   "source": [
    "## robots.txt"
   ]
  },
  {
   "cell_type": "code",
   "execution_count": 4,
   "id": "bottom-mexico",
   "metadata": {
    "scrolled": true
   },
   "outputs": [
    {
     "name": "stdout",
     "output_type": "stream",
     "text": [
      "User-agent: *\n",
      "Disallow: /2/\n",
      "Disallow: /3com/\n",
      "Disallow: /admin/\n",
      "Disallow: /archive/\n",
      "Disallow: /bgpoxy/\n",
      "Disallow: /bin/\n",
      "Disallow: /cDN_contENt/\n",
      "Disallow: /cgi-bin/\n",
      "Disallow: /data/\n",
      "Disallow: /dbcfiles/\n",
      "Disallow: /dhtml/\n",
      "Disallow: /dhtmlmenu/\n",
      "Disallow: /doubleclick/\n",
      "Disallow: /dynamiclogic/\n",
      "Disallow: /email/\n",
      "Disallow: /feeds/\n",
      "Disallow: /free/\n",
      "Disallow: /http2_data/\n",
      "Disallow: /*?tickers=\n",
      "Disallow: /login/\n",
      "Disallow: /MarketPerception/\n",
      "Disallow: /marketperception/\n",
      "Disallow: /MyPortfolio/\n",
      "Disallow: /myportfolio/\n",
      "Disallow: /news/current/\n",
      "Disallow: /portfolio/\n",
      "Disallow: /print/\n",
      "Disallow: /RealMedia/\n",
      "Disallow: /realmedia/\n",
      "Disallow: /registration/\n",
      "Disallow: /search/\n",
      "Disallow: /search\n",
      "Disallow: /story/twittershare\n",
      "Disallow: /tools/alerts/\n",
      "Disallow: /tpx/\n",
      "Disallow: /tools/quotes/secfilings.asp\n",
      "Disallow: /tools/quotes/form10k.asp\n",
      "Disallow: /tools/quotes/form10q.asp\n",
      "Disallow: /tools/quotes/form8k.asp\n",
      "Disallow: /tools/quotes/registrationstate.asp\n",
      "Disallow: /tools/quotes/sched13d.asp\n",
      "Disallow: /tools/quotes/sched13f.asp\n",
      "Disallow: /tools/quotes/sched13g.asp\n",
      "Disallow: /tools/quotes/secarticle.asp\n",
      "Disallow: /wsj/\n",
      "Disallow: /xhtml/v/\n",
      "Disallow: /user/login/profile\n",
      "Sitemap: https://www.marketwatch.com/sitemap-search-index.xml.gz \n",
      "Sitemap: https://www.marketwatch.com/sitemaps/web/mw-video/en/sitemap_mw-video_en_index.xml\n",
      "Sitemap: https://www.marketwatch.com/mw_news_sitemap.xml\n",
      "Sitemap: https://www.marketwatch.com/api-video/sitemaps/google/sitemap-google-video-marketwatch.asp\n",
      "Sitemap: https://www.marketwatch.com/mw/mw_quote_index_sitemap.xml\n",
      "Sitemap: https://www.marketwatch.com/sitemaps/web/mw-pr/en/sitemap_mw-pr_en_index.xml\n",
      "\n",
      "User-Agent: MSNPTC/1.0\n",
      "Allow: /registration/\n",
      "Allow: /tools/alerts/\n",
      "Allow: /login/\n",
      "Allow: /myportfolio/\n",
      "Disallow: /2/\n",
      "Disallow: /3com/\n",
      "Disallow: /admin/\n",
      "Disallow: /archive/\n",
      "Disallow: /bin/\n",
      "Disallow: /cDN_contENt/\n",
      "Disallow: /cgi-bin/\n",
      "Disallow: /data/\n",
      "Disallow: /dbcfiles/\n",
      "Disallow: /dhtml/\n",
      "Disallow: /dhtmlmenu/\n",
      "Disallow: /doubleclick/\n",
      "Disallow: /dynamiclogic/\n",
      "Disallow: /email/\n",
      "Disallow: /feeds/\n",
      "Disallow: /free/\n",
      "Disallow: /http2_data/\n",
      "Disallow: /login/\n",
      "Disallow: /MarketPerception/\n",
      "Disallow: /marketperception/\n",
      "Disallow: /news/current/\n",
      "Disallow: /print/\n",
      "Disallow: /RealMedia/\n",
      "Disallow: /realmedia/\n",
      "Disallow: /tpx/\n",
      "Disallow: /tools/quotes/secfilings.asp\n",
      "Disallow: /tools/quotes/form10k.asp\n",
      "Disallow: /tools/quotes/form10q.asp\n",
      "Disallow: /tools/quotes/form8k.asp\n",
      "Disallow: /tools/quotes/registrationstate.asp\n",
      "Disallow: /tools/quotes/sched13d.asp\n",
      "Disallow: /tools/quotes/sched13f.asp\n",
      "Disallow: /tools/quotes/sched13g.asp\n",
      "Disallow: /tools/quotes/secarticle.asp\n",
      "\n",
      "User-Agent: Googlebot-News\n",
      "Disallow: /press-release/\n",
      "\n",
      "User-agent: grapeshot\n",
      "Disallow: /\n"
     ]
    }
   ],
   "source": [
    "print(requests.get(f\"{website}/robots.txt\", headers=HEADERS).content.decode())"
   ]
  },
  {
   "cell_type": "code",
   "execution_count": 6,
   "id": "laden-routine",
   "metadata": {},
   "outputs": [
    {
     "data": {
      "text/plain": [
       "['Date', 'Open', 'High', 'Low', 'Close']"
      ]
     },
     "execution_count": 6,
     "metadata": {},
     "output_type": "execute_result"
    }
   ],
   "source": [
    "page = requests.get(\"https://www.marketwatch.com/investing/future/cl00/download-data?startDate=11/13/2020&endDate=05/13/2021\",HEADERS)\n",
    "soup = bs(page.content, 'lxml')\n",
    "## column_names\n",
    "table0=soup.find('table','table table--overflow align--center')\n",
    "all_column_names =[]\n",
    "# date\n",
    "column1 = table0.find(\"thead\").find(\"th\").find(\"div\",\"cell__content fixed--cell\")\n",
    "all_column_names.append(column1.string)   \n",
    "#column names\n",
    "columns = table0.find(\"thead\").find_all(\"th\")\n",
    "column_names = [c.string for c in columns if c.string is not None]\n",
    "all_column_names.extend(column_names)\n",
    "all_column_names"
   ]
  },
  {
   "cell_type": "code",
   "execution_count": 9,
   "id": "applied-uruguay",
   "metadata": {},
   "outputs": [
    {
     "data": {
      "text/plain": [
       "['05/21/2021',\n",
       " '$61.89',\n",
       " '$64.07',\n",
       " '$61.56',\n",
       " '$63.58',\n",
       " '05/20/2021',\n",
       " '$63.35',\n",
       " '$63.95',\n",
       " '$61.67',\n",
       " '$61.94',\n",
       " '05/19/2021',\n",
       " '$65.30',\n",
       " '$65.35',\n",
       " '$61.95',\n",
       " '$63.35',\n",
       " '05/18/2021',\n",
       " '$66.33',\n",
       " '$67.01',\n",
       " '$64.11',\n",
       " '$65.49',\n",
       " '05/17/2021',\n",
       " '$65.50',\n",
       " '$66.43',\n",
       " '$64.83',\n",
       " '$66.27',\n",
       " '05/14/2021',\n",
       " '$63.83',\n",
       " '$65.62',\n",
       " '$63.33',\n",
       " '$65.37',\n",
       " '05/13/2021',\n",
       " '$65.75',\n",
       " '$65.81',\n",
       " '$63.09',\n",
       " '$63.82',\n",
       " '05/12/2021',\n",
       " '$65.46',\n",
       " '$66.63',\n",
       " '$64.97',\n",
       " '$66.08',\n",
       " '05/11/2021',\n",
       " '$64.90',\n",
       " '$65.50',\n",
       " '$63.68',\n",
       " '$65.28',\n",
       " '05/10/2021',\n",
       " '$65.57',\n",
       " '$65.75',\n",
       " '$63.95',\n",
       " '$64.92',\n",
       " '05/07/2021',\n",
       " '$64.90',\n",
       " '$65.24',\n",
       " '$63.90',\n",
       " '$64.90',\n",
       " '05/06/2021',\n",
       " '$65.27',\n",
       " '$65.98',\n",
       " '$64.50',\n",
       " '$64.71',\n",
       " '05/05/2021',\n",
       " '$66.45',\n",
       " '$66.76',\n",
       " '$64.92',\n",
       " '$65.63',\n",
       " '05/04/2021',\n",
       " '$64.53',\n",
       " '$66.19',\n",
       " '$64.29',\n",
       " '$65.69',\n",
       " '05/03/2021',\n",
       " '$63.64',\n",
       " '$64.68',\n",
       " '$62.91',\n",
       " '$64.49',\n",
       " '04/30/2021',\n",
       " '$64.88',\n",
       " '$64.95',\n",
       " '$63.08',\n",
       " '$63.58',\n",
       " '04/29/2021',\n",
       " '$63.70',\n",
       " '$65.47',\n",
       " '$63.65',\n",
       " '$65.01',\n",
       " '04/28/2021',\n",
       " '$63.04',\n",
       " '$64.53',\n",
       " '$62.67',\n",
       " '$63.86',\n",
       " '04/27/2021',\n",
       " '$61.97',\n",
       " '$63.30',\n",
       " '$61.91',\n",
       " '$62.94',\n",
       " '04/26/2021',\n",
       " '$62.06',\n",
       " '$62.31',\n",
       " '$60.66',\n",
       " '$61.91']"
      ]
     },
     "execution_count": 9,
     "metadata": {},
     "output_type": "execute_result"
    }
   ],
   "source": [
    "## row data\n",
    "table1_rows = table0.find(\"tbody\").find_all(\"tr\")\n",
    "table1 = []\n",
    "all_tables = []\n",
    "for r in table1_rows:\n",
    "    td = r.find_all(\"td\")\n",
    "    for tr in td:\n",
    "        if tr.string is  None:\n",
    "            data=tr.find(\"div\").string\n",
    "            table1.append(data)\n",
    "        else:\n",
    "            row = tr.string\n",
    "            table1.append(row)\n",
    "table1"
   ]
  },
  {
   "cell_type": "markdown",
   "id": "unnecessary-equality",
   "metadata": {},
   "source": [
    "## change method"
   ]
  },
  {
   "cell_type": "markdown",
   "id": "czech-estonia",
   "metadata": {},
   "source": [
    "In the beginning, I scraped the html content with 'requests' and 'BeautifulSoup', but only the first 20 rows could be grabbed. I attempted to send the time interval request and click the 'next page' button with 'selenium' function. It is unsuccessful. I change to another method. I simulated the process of requesting the data, and checked the request under \"Network\" (Inspect->Network). Then, a \"downloaddata\" network is found. Therefore, I use the 'Request URL' to download all data.  \n",
    "Request URL:   https://www.marketwatch.com/investing/future/cl00/downloaddatapartial?partial=true&index=0&countryCode=&iso=&startDate=3%2F1%2F2021&endDate=05%2F14%2F2021&frequency=null&downloadPartial=false&csvDownload=false&newDates=true  \n",
    "\n",
    "However, this page still shows 20 rows at maximum, even click the ‘Next Page’ button. Thus, the time period must be defined in each URL respectively. I first created the list which contains all required time periods first.\n"
   ]
  },
  {
   "cell_type": "markdown",
   "id": "endless-glucose",
   "metadata": {},
   "source": [
    "## creat lists for fetch all url\n",
    "Request URL: https://www.marketwatch.com/investing/future/cl00/downloaddatapartial?partial=true&index=0&countryCode=&iso=&startDate=3%2F1%2F2021&endDate=05%2F14%2F2021&frequency=null&downloadPartial=false&csvDownload=false&newDates=true"
   ]
  },
  {
   "cell_type": "markdown",
   "id": "coupled-kernel",
   "metadata": {},
   "source": [
    "### list for daily data"
   ]
  },
  {
   "cell_type": "code",
   "execution_count": 10,
   "id": "inner-effect",
   "metadata": {},
   "outputs": [],
   "source": [
    "list=[]\n",
    "month=['01','02','03','04','05','06','07','08','09','10','11','12']\n",
    "# for year 2010-2020\n",
    "# all date form the first 15 days\n",
    "for y in range(2010,2021):\n",
    "    y=str(y)\n",
    "    for m in month:\n",
    "        d1='01'\n",
    "        d2='15'\n",
    "        url1=f'https://www.marketwatch.com/investing/future/cl00/downloaddatapartial?partial=true&index=0&countryCode=&iso=&startDate={m}%2F{d1}%2F{y}&endDate={m}%2F{d2}%2F{y}&frequency=null&downloadPartial=true&csvDownload=false&newDates=false'\n",
    "        list.append(url1)\n",
    "        \n",
    "# all date form the rest days           \n",
    "for y in range(2010,2021):\n",
    "    for m in month:\n",
    "        if m in ['01','03','05','07','08','10','12']:\n",
    "            d1='16'\n",
    "            d2='31'\n",
    "            url1=f'https://www.marketwatch.com/investing/future/cl00/downloaddatapartial?partial=true&index=0&countryCode=&iso=&startDate={m}%2F{d1}%2F{y}&endDate={m}%2F{d2}%2F{y}&frequency=null&downloadPartial=true&csvDownload=false&newDates=false'\n",
    "            list.append(url1)\n",
    "        elif m in ['04','06','09','11']:\n",
    "            d1='16'\n",
    "            d2='30'\n",
    "            url1=f'https://www.marketwatch.com/investing/future/cl00/downloaddatapartial?partial=true&index=0&countryCode=&iso=&startDate={m}%2F{d1}%2F{y}&endDate={m}%2F{d2}%2F{y}&frequency=null&downloadPartial=true&csvDownload=false&newDates=false'\n",
    "            list.append(url1)\n",
    "        else:\n",
    "            if (y % 4) == 0 and (y % 100) !=0 or (y % 400) == 0:\n",
    "                d1='16'\n",
    "                d2='29'\n",
    "                url1=f'https://www.marketwatch.com/investing/future/cl00/downloaddatapartial?partial=true&index=0&countryCode=&iso=&startDate={m}%2F{d1}%2F{y}&endDate={m}%2F{d2}%2F{y}&frequency=null&downloadPartial=true&csvDownload=false&newDates=false'\n",
    "                list.append(url1)\n",
    "            else:\n",
    "                d1='16'\n",
    "                d2='28'\n",
    "                url1=f'https://www.marketwatch.com/investing/future/cl00/downloaddatapartial?partial=true&index=0&countryCode=&iso=&startDate={m}%2F{d1}%2F{y}&endDate={m}%2F{d2}%2F{y}&frequency=null&downloadPartial=true&csvDownload=false&newDates=false'\n",
    "                list.append(url1)\n",
    "\n",
    "# for year 2021 \n",
    "month1=['01','02','03','04','05']\n",
    "# all date form the first 15 days\n",
    "for m in month1:\n",
    "    d1='01'\n",
    "    d2='15'\n",
    "    url1=f'https://www.marketwatch.com/investing/future/cl00/downloaddatapartial?partial=true&index=0&countryCode=&iso=&startDate={m}%2F{d1}%2F2021&endDate={m}%2F{d2}%2F2021&frequency=null&downloadPartial=true&csvDownload=false&newDates=false'\n",
    "    list.append(url1)\n",
    "\n",
    "# all date form the rest days  \n",
    "for m in month1:\n",
    "    if m in ['01','03']:\n",
    "        d1='16'\n",
    "        d2='31'\n",
    "        url1=f'https://www.marketwatch.com/investing/future/cl00/downloaddatapartial?partial=true&index=0&countryCode=&iso=&startDate={m}%2F{d1}%2F2021&endDate={m}%2F{d2}%2F2021&frequency=null&downloadPartial=true&csvDownload=false&newDates=false'\n",
    "        list.append(url1)\n",
    "    elif m in ['04']:\n",
    "        d1='16'\n",
    "        d2='30'\n",
    "        url1=f'https://www.marketwatch.com/investing/future/cl00/downloaddatapartial?partial=true&index=0&countryCode=&iso=&startDate={m}%2F{d1}%2F2021&endDate={m}%2F{d2}%2F2021&frequency=null&downloadPartial=true&csvDownload=false&newDates=false'\n",
    "        list.append(url1)\n",
    "    elif m in ['02']:\n",
    "        d1='16'\n",
    "        d2='28'\n",
    "        url1=f'https://www.marketwatch.com/investing/future/cl00/downloaddatapartial?partial=true&index=0&countryCode=&iso=&startDate={m}%2F{d1}%2F2021&endDate={m}%2F{d2}%2F2021&frequency=null&downloadPartial=true&csvDownload=false&newDates=false'\n",
    "        list.append(url1)\n",
    "    else:\n",
    "        pass\n"
   ]
  },
  {
   "cell_type": "markdown",
   "id": "disciplinary-description",
   "metadata": {},
   "source": [
    "### list for monthly data"
   ]
  },
  {
   "cell_type": "code",
   "execution_count": 11,
   "id": "curious-nirvana",
   "metadata": {},
   "outputs": [],
   "source": [
    "listm=[]\n",
    "# year 2010-2020\n",
    "for y in range(2010,2021):\n",
    "    y=str(y)\n",
    "    url1=f'https://www.marketwatch.com/investing/future/cl00/downloaddatapartial?partial=true&index=0&countryCode=&iso=&startDate=01%2F01%2F{y}&endDate=12%2F31%2F{y}&frequency=null&downloadPartial=true&csvDownload=false&newDates=true'\n",
    "    listm.append(url1)\n",
    "\n",
    "# year 2021 Jan-April\n",
    "url1=f'https://www.marketwatch.com/investing/future/cl00/downloaddatapartial?partial=true&index=0&countryCode=&iso=&startDate=01%2F01%2F2021&endDate=04%2F30%2F2021&frequency=null&downloadPartial=true&csvDownload=false&newDates=true'\n",
    "listm.append(url1)"
   ]
  },
  {
   "cell_type": "markdown",
   "id": "instrumental-norwegian",
   "metadata": {},
   "source": [
    "## grab table \n",
    "Pandas read_html"
   ]
  },
  {
   "cell_type": "markdown",
   "id": "aquatic-chemical",
   "metadata": {},
   "source": [
    "### grab daily table"
   ]
  },
  {
   "cell_type": "code",
   "execution_count": 12,
   "id": "heated-maine",
   "metadata": {},
   "outputs": [],
   "source": [
    "table_d=pd.DataFrame()\n",
    "for url in list:\n",
    "    df=pd.read_html(url)[0].iloc[::-1]\n",
    "    data=pd.DataFrame(df)\n",
    "    table_d=pd.concat([table_d,data], axis=0)"
   ]
  },
  {
   "cell_type": "code",
   "execution_count": 17,
   "id": "greenhouse-rogers",
   "metadata": {},
   "outputs": [],
   "source": [
    "table_d.to_csv(\"oil_price_daily_src.csv\", index=False)"
   ]
  },
  {
   "cell_type": "markdown",
   "id": "diagnostic-buffalo",
   "metadata": {},
   "source": [
    "### grab monthly table"
   ]
  },
  {
   "cell_type": "code",
   "execution_count": 14,
   "id": "banner-simon",
   "metadata": {},
   "outputs": [],
   "source": [
    "table_m=pd.DataFrame()\n",
    "for url in listm:\n",
    "    df=pd.read_html(url)[2].iloc[::-1]\n",
    "    data=pd.DataFrame(df)\n",
    "    table_m=pd.concat([table_m,data], axis=0)"
   ]
  },
  {
   "cell_type": "code",
   "execution_count": 15,
   "id": "exempt-mining",
   "metadata": {},
   "outputs": [],
   "source": [
    "table_m.to_csv(\"oil_price_monthly_src.csv\", index=False)"
   ]
  },
  {
   "cell_type": "code",
   "execution_count": null,
   "id": "specific-prompt",
   "metadata": {},
   "outputs": [],
   "source": []
  }
 ],
 "metadata": {
  "kernelspec": {
   "display_name": "Python 3",
   "language": "python",
   "name": "python3"
  },
  "language_info": {
   "codemirror_mode": {
    "name": "ipython",
    "version": 3
   },
   "file_extension": ".py",
   "mimetype": "text/x-python",
   "name": "python",
   "nbconvert_exporter": "python",
   "pygments_lexer": "ipython3",
   "version": "3.8.5"
  }
 },
 "nbformat": 4,
 "nbformat_minor": 5
}
