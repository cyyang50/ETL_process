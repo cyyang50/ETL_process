{
 "cells": [
  {
   "cell_type": "code",
   "execution_count": 66,
   "id": "exceptional-strain",
   "metadata": {},
   "outputs": [],
   "source": [
    "import pandas as pd\n",
    "\n",
    "pd.set_option('precision', 3)\n",
    "pd.set_option('max_rows', 20)\n",
    "pd.set_option('max_colwidth', 30)\n",
    "\n",
    "%config Completer.use_jedi = False"
   ]
  },
  {
   "cell_type": "markdown",
   "id": "amateur-migration",
   "metadata": {},
   "source": [
    "## 1.  cleaning general-motors_carsales_src _dirty.csv\n"
   ]
  },
  {
   "cell_type": "code",
   "execution_count": 67,
   "id": "aerial-impact",
   "metadata": {},
   "outputs": [],
   "source": [
    "#read the GM file\n",
    "gm = pd.read_csv(\"general-motors_carsales_src _dirty.csv\", \n",
    "                                   encoding='ISO-8859-1')"
   ]
  },
  {
   "cell_type": "code",
   "execution_count": 68,
   "id": "entertaining-thailand",
   "metadata": {},
   "outputs": [
    {
     "data": {
      "text/html": [
       "<div>\n",
       "<style scoped>\n",
       "    .dataframe tbody tr th:only-of-type {\n",
       "        vertical-align: middle;\n",
       "    }\n",
       "\n",
       "    .dataframe tbody tr th {\n",
       "        vertical-align: top;\n",
       "    }\n",
       "\n",
       "    .dataframe thead th {\n",
       "        text-align: right;\n",
       "    }\n",
       "</style>\n",
       "<table border=\"1\" class=\"dataframe\">\n",
       "  <thead>\n",
       "    <tr style=\"text-align: right;\">\n",
       "      <th></th>\n",
       "      <th>Year</th>\n",
       "      <th>Month</th>\n",
       "      <th>general-motors</th>\n",
       "    </tr>\n",
       "  </thead>\n",
       "  <tbody>\n",
       "    <tr>\n",
       "      <th>1</th>\n",
       "      <td>2005.000</td>\n",
       "      <td>Feb</td>\n",
       "      <td>NaN</td>\n",
       "    </tr>\n",
       "    <tr>\n",
       "      <th>26</th>\n",
       "      <td>2007.000</td>\n",
       "      <td>NaN</td>\n",
       "      <td>333899</td>\n",
       "    </tr>\n",
       "    <tr>\n",
       "      <th>41</th>\n",
       "      <td>NaN</td>\n",
       "      <td>Jun</td>\n",
       "      <td>253859</td>\n",
       "    </tr>\n",
       "    <tr>\n",
       "      <th>62</th>\n",
       "      <td>2010.000</td>\n",
       "      <td>NaN</td>\n",
       "      <td>Mar187335</td>\n",
       "    </tr>\n",
       "  </tbody>\n",
       "</table>\n",
       "</div>"
      ],
      "text/plain": [
       "       Year Month general-motors\n",
       "1  2005.000   Feb            NaN\n",
       "26 2007.000   NaN         333899\n",
       "41      NaN   Jun         253859\n",
       "62 2010.000   NaN      Mar187335"
      ]
     },
     "execution_count": 68,
     "metadata": {},
     "output_type": "execute_result"
    }
   ],
   "source": [
    "#show null value\n",
    "gm[gm.isnull().values==True]"
   ]
  },
  {
   "cell_type": "markdown",
   "id": "proof-plenty",
   "metadata": {},
   "source": [
    "### fill the null value in 'Year'"
   ]
  },
  {
   "cell_type": "code",
   "execution_count": 69,
   "id": "harmful-adoption",
   "metadata": {},
   "outputs": [
    {
     "name": "stdout",
     "output_type": "stream",
     "text": [
      "       Year Month general-motors\n",
      "35 2007.000   Dec         311382\n",
      "36 2008.000   Jan         243955\n",
      "37 2008.000   Feb         260800\n",
      "38 2008.000   Mar         270650\n",
      "39 2008.000   Apr         248746\n",
      "40 2008.000   May         259587\n",
      "41      NaN   Jun         253859\n",
      "42 2008.000   Jul         230846\n",
      "43 2008.000   Aug         303268\n",
      "44 2008.000   Sep         279054\n"
     ]
    }
   ],
   "source": [
    "# check the rows near the null value (index 41)\n",
    "print(gm.iloc[35:45])\n",
    "\n",
    "# from the result, we know the null value should be 2008\n",
    "# fill in '2008'\n",
    "gm['Year']=gm['Year'].fillna(2008)\n",
    "\n",
    "# change the datatype of 'year' from float to intger \n",
    "gm['Year']=gm['Year'].astype(int)"
   ]
  },
  {
   "cell_type": "markdown",
   "id": "strong-transsexual",
   "metadata": {},
   "source": [
    "### fill the null value in 'Month'"
   ]
  },
  {
   "cell_type": "code",
   "execution_count": 70,
   "id": "analyzed-vietnam",
   "metadata": {},
   "outputs": [
    {
     "name": "stdout",
     "output_type": "stream",
     "text": [
      "    Year Month general-motors\n",
      "20  2006   Sep         325729\n",
      "21  2006   Oct         290221\n",
      "22  2006   Nov         285560\n",
      "23  2006   Dec         324413\n",
      "24  2007   Jan         237351\n",
      "25  2007   Feb         300624\n",
      "26  2007   NaN         333899\n",
      "27  2007   Apr         299061\n",
      "28  2007   May         361590\n",
      "29  2007   Jun         307784\n"
     ]
    },
    {
     "name": "stderr",
     "output_type": "stream",
     "text": [
      "<ipython-input-70-3413b0ecf58e>:5: SettingWithCopyWarning: \n",
      "A value is trying to be set on a copy of a slice from a DataFrame\n",
      "\n",
      "See the caveats in the documentation: https://pandas.pydata.org/pandas-docs/stable/user_guide/indexing.html#returning-a-view-versus-a-copy\n",
      "  gm['Month'][26]='Mar'\n"
     ]
    }
   ],
   "source": [
    "# check the rows near the null value (index 26)\n",
    "print(gm.iloc[20:30])\n",
    "\n",
    "# from the result, we know the null value is 'Mar', so we fill 'Mar' into the cell\n",
    "gm['Month'][26]='Mar'"
   ]
  },
  {
   "cell_type": "markdown",
   "id": "constitutional-campaign",
   "metadata": {},
   "source": [
    "### fix the null value in index 62"
   ]
  },
  {
   "cell_type": "code",
   "execution_count": 71,
   "id": "tight-thomas",
   "metadata": {},
   "outputs": [
    {
     "name": "stdout",
     "output_type": "stream",
     "text": [
      "    Year Month general-motors\n",
      "60  2010   Jan         145388\n",
      "61  2010   Feb         140873\n",
      "62  2010   NaN      Mar187335\n",
      "63  2010   Apr         183005\n",
      "64  2010   May         222841\n"
     ]
    },
    {
     "name": "stderr",
     "output_type": "stream",
     "text": [
      "<ipython-input-71-6697fe1fe57d>:6: SettingWithCopyWarning: \n",
      "A value is trying to be set on a copy of a slice from a DataFrame\n",
      "\n",
      "See the caveats in the documentation: https://pandas.pydata.org/pandas-docs/stable/user_guide/indexing.html#returning-a-view-versus-a-copy\n",
      "  gm['Month'][62]=gm['general-motors'][62][0:3]\n",
      "<ipython-input-71-6697fe1fe57d>:7: SettingWithCopyWarning: \n",
      "A value is trying to be set on a copy of a slice from a DataFrame\n",
      "\n",
      "See the caveats in the documentation: https://pandas.pydata.org/pandas-docs/stable/user_guide/indexing.html#returning-a-view-versus-a-copy\n",
      "  gm['general-motors'][62]=gm['general-motors'][62][3:]\n"
     ]
    }
   ],
   "source": [
    "# check the row near index 62\n",
    "print(gm.iloc[60:65])\n",
    "\n",
    "# the data in column 'Month' is combined with column 'general-motors' \n",
    "# the string is split into two parts\n",
    "gm['Month'][62]=gm['general-motors'][62][0:3]\n",
    "gm['general-motors'][62]=gm['general-motors'][62][3:]"
   ]
  },
  {
   "cell_type": "code",
   "execution_count": 72,
   "id": "elementary-sandwich",
   "metadata": {},
   "outputs": [],
   "source": [
    "# change the datatype of 'year' from object to intger \n",
    "gm['general-motors']=gm['general-motors'].astype(float)"
   ]
  },
  {
   "cell_type": "markdown",
   "id": "younger-struggle",
   "metadata": {},
   "source": [
    "### fix the null value in 'general-motors'"
   ]
  },
  {
   "cell_type": "code",
   "execution_count": 73,
   "id": "foreign-finger",
   "metadata": {},
   "outputs": [
    {
     "name": "stdout",
     "output_type": "stream",
     "text": [
      "    Year Month  general-motors\n",
      "0   2005   Jan      269125.000\n",
      "1   2005   Feb             NaN\n",
      "2   2005   Mar      409418.000\n",
      "3   2005   Apr      368088.000\n",
      "4   2005   May      372586.000\n",
      "5   2005   Jun      533652.000\n",
      "6   2005   Jul      505727.000\n",
      "7   2005   Aug      338888.000\n",
      "8   2005   Sep      336487.000\n",
      "9   2005   Oct      245904.000\n",
      "10  2005   Nov      269083.000\n",
      "11  2005   Dec      375601.000\n",
      "********************\n",
      "The mean value of 2005: Year               2005.000\n",
      "general-motors   365869.000\n",
      "dtype: float64\n",
      "********************\n",
      "     Year Month  general-motors\n",
      "1    2005   Feb             NaN\n",
      "13   2006   Feb      288853.000\n",
      "25   2007   Feb      300624.000\n",
      "37   2008   Feb      260800.000\n",
      "49   2009   Feb      124879.000\n",
      "61   2010   Feb      140873.000\n",
      "73   2011   Feb      206272.000\n",
      "85   2012   Feb      417232.000\n",
      "97   2013   Feb      222832.000\n",
      "109  2014   Feb      221610.000\n",
      "121  2015   Feb      230490.000\n",
      "133  2016   Feb      226778.000\n",
      "145  2017   Feb      236376.000\n",
      "157  2018   Feb      220905.000\n",
      "169  2019   Feb      210055.000\n",
      "181  2020   Feb      255217.000\n",
      "193  2021   Feb      242071.000\n",
      "********************\n",
      "The mean value of Feb from 2005-2010:  241446.5\n"
     ]
    }
   ],
   "source": [
    "# list all value & mean of 2005\n",
    "print(gm.loc[gm['Year']==2005])\n",
    "print('*'*20)\n",
    "mean_2005=gm.loc[gm['Year']==2005].mean()\n",
    "print('The mean value of 2005:',mean_2005)\n",
    "print('*'*20)\n",
    "\n",
    "# the all value and mean of Feb from 2005-2015\n",
    "print(gm.loc[gm['Month']=='Feb'])\n",
    "print('*'*20)\n",
    "mean_2005_2015_feb=gm['general-motors'].loc[gm['Year'] <= 2015].groupby([gm['Month']]).mean()['Feb']\n",
    "print('The mean value of Feb from 2005-2010: ',mean_2005_2015_feb)"
   ]
  },
  {
   "cell_type": "code",
   "execution_count": 74,
   "id": "pursuant-birth",
   "metadata": {},
   "outputs": [
    {
     "name": "stderr",
     "output_type": "stream",
     "text": [
      "<ipython-input-74-ac1515fa33a7>:2: SettingWithCopyWarning: \n",
      "A value is trying to be set on a copy of a slice from a DataFrame\n",
      "\n",
      "See the caveats in the documentation: https://pandas.pydata.org/pandas-docs/stable/user_guide/indexing.html#returning-a-view-versus-a-copy\n",
      "  gm['general-motors'][1]=mean_2005_2015_feb\n"
     ]
    }
   ],
   "source": [
    "# fill the null value using mean of Feb 2005-2015\n",
    "gm['general-motors'][1]=mean_2005_2015_feb"
   ]
  },
  {
   "cell_type": "code",
   "execution_count": 75,
   "id": "tight-channels",
   "metadata": {},
   "outputs": [
    {
     "name": "stdout",
     "output_type": "stream",
     "text": [
      "Current number of null value in the dataset: 0\n"
     ]
    }
   ],
   "source": [
    "#check null value again\n",
    "print('Current number of null value in the dataset:', gm.isnull().any().sum())"
   ]
  },
  {
   "cell_type": "markdown",
   "id": "given-acrylic",
   "metadata": {},
   "source": [
    "### fix the outlier value"
   ]
  },
  {
   "cell_type": "code",
   "execution_count": 76,
   "id": "missing-tennis",
   "metadata": {},
   "outputs": [
    {
     "data": {
      "text/plain": [
       "count       204.000\n",
       "mean     240065.858\n",
       "std      113783.505\n",
       "min           0.000\n",
       "25%      206150.250\n",
       "50%      241890.000\n",
       "75%      268159.000\n",
       "max     1395217.000\n",
       "Name: general-motors, dtype: float64"
      ]
     },
     "execution_count": 76,
     "metadata": {},
     "output_type": "execute_result"
    }
   ],
   "source": [
    "# check total data\n",
    "pd.set_option('display.float_format',lambda x : '%.3f' % x)\n",
    "gm['general-motors'].describe()"
   ]
  },
  {
   "cell_type": "code",
   "execution_count": 77,
   "id": "wooden-animation",
   "metadata": {},
   "outputs": [
    {
     "name": "stdout",
     "output_type": "stream",
     "text": [
      "    Year Month  general-motors\n",
      "17  2006   Jun     1395217.000\n"
     ]
    },
    {
     "name": "stderr",
     "output_type": "stream",
     "text": [
      "<ipython-input-77-82f02982d9da>:6: SettingWithCopyWarning: \n",
      "A value is trying to be set on a copy of a slice from a DataFrame\n",
      "\n",
      "See the caveats in the documentation: https://pandas.pydata.org/pandas-docs/stable/user_guide/indexing.html#returning-a-view-versus-a-copy\n",
      "  gm['general-motors'][17]=395217\n"
     ]
    }
   ],
   "source": [
    "# an extra large number is observed\n",
    "max=gm['general-motors'].max()\n",
    "print(gm.loc[gm['general-motors'] == max])\n",
    "\n",
    "# '1' in string'1395217.00' is redundant, change to '395217'\n",
    "gm['general-motors'][17]=395217"
   ]
  },
  {
   "cell_type": "code",
   "execution_count": 78,
   "id": "bibliographic-agreement",
   "metadata": {},
   "outputs": [
    {
     "name": "stdout",
     "output_type": "stream",
     "text": [
      "195        0.000\n",
      "196        0.000\n",
      "197        0.000\n",
      "198        0.000\n",
      "199        0.000\n",
      "200        0.000\n",
      "201        0.000\n",
      "202        0.000\n",
      "203        0.000\n",
      "52       189.561\n",
      "183    88377.000\n",
      "49    124879.000\n",
      "48    126290.000\n",
      "61    140873.000\n",
      "60    145388.000\n",
      "Name: general-motors, dtype: float64\n"
     ]
    },
    {
     "name": "stderr",
     "output_type": "stream",
     "text": [
      "<ipython-input-78-b2dbacf34693>:5: SettingWithCopyWarning: \n",
      "A value is trying to be set on a copy of a slice from a DataFrame\n",
      "\n",
      "See the caveats in the documentation: https://pandas.pydata.org/pandas-docs/stable/user_guide/indexing.html#returning-a-view-versus-a-copy\n",
      "  gm['general-motors'][52]=189561\n"
     ]
    }
   ],
   "source": [
    "# another outlier is observed. The number should not have decimal places.\n",
    "print(gm['general-motors'].nsmallest(15,keep='all'))\n",
    "\n",
    "# it is believed that '189.561' is error, it should be '189561'\n",
    "gm['general-motors'][52]=189561"
   ]
  },
  {
   "cell_type": "code",
   "execution_count": 79,
   "id": "familiar-enforcement",
   "metadata": {},
   "outputs": [],
   "source": [
    "# check is any duplicated row =>0\n",
    "gm[gm.duplicated()]\n",
    "\n",
    "# remane the column name\n",
    "gm=gm.rename(columns={'general-motors':'Gm'})\n",
    "\n",
    "# change the datatype of 'Gm' to intger \n",
    "gm['Gm']=gm['Gm'].astype(int)"
   ]
  },
  {
   "cell_type": "markdown",
   "id": "bacterial-mentor",
   "metadata": {},
   "source": [
    "## 2.  cleaning ford-motor-company_carsales_src _dirty.csv"
   ]
  },
  {
   "cell_type": "code",
   "execution_count": 80,
   "id": "respected-category",
   "metadata": {},
   "outputs": [],
   "source": [
    "#read the Ford file\n",
    "ford = pd.read_csv(\"ford-motor-company_carsales_src _dirty.csv\", \n",
    "                                   encoding='ISO-8859-1')"
   ]
  },
  {
   "cell_type": "code",
   "execution_count": 81,
   "id": "continuing-trademark",
   "metadata": {},
   "outputs": [
    {
     "data": {
      "text/html": [
       "<div>\n",
       "<style scoped>\n",
       "    .dataframe tbody tr th:only-of-type {\n",
       "        vertical-align: middle;\n",
       "    }\n",
       "\n",
       "    .dataframe tbody tr th {\n",
       "        vertical-align: top;\n",
       "    }\n",
       "\n",
       "    .dataframe thead th {\n",
       "        text-align: right;\n",
       "    }\n",
       "</style>\n",
       "<table border=\"1\" class=\"dataframe\">\n",
       "  <thead>\n",
       "    <tr style=\"text-align: right;\">\n",
       "      <th></th>\n",
       "      <th>Year</th>\n",
       "      <th>Month</th>\n",
       "      <th>ford-motor-company</th>\n",
       "    </tr>\n",
       "  </thead>\n",
       "  <tbody>\n",
       "    <tr>\n",
       "      <th>3</th>\n",
       "      <td>2005Apr260741</td>\n",
       "      <td>NaN</td>\n",
       "      <td>NaN</td>\n",
       "    </tr>\n",
       "    <tr>\n",
       "      <th>3</th>\n",
       "      <td>2005Apr260741</td>\n",
       "      <td>NaN</td>\n",
       "      <td>NaN</td>\n",
       "    </tr>\n",
       "    <tr>\n",
       "      <th>39</th>\n",
       "      <td>NaN</td>\n",
       "      <td>NaN</td>\n",
       "      <td>NaN</td>\n",
       "    </tr>\n",
       "    <tr>\n",
       "      <th>39</th>\n",
       "      <td>NaN</td>\n",
       "      <td>NaN</td>\n",
       "      <td>NaN</td>\n",
       "    </tr>\n",
       "    <tr>\n",
       "      <th>39</th>\n",
       "      <td>NaN</td>\n",
       "      <td>NaN</td>\n",
       "      <td>NaN</td>\n",
       "    </tr>\n",
       "  </tbody>\n",
       "</table>\n",
       "</div>"
      ],
      "text/plain": [
       "             Year Month  ford-motor-company\n",
       "3   2005Apr260741   NaN                 NaN\n",
       "3   2005Apr260741   NaN                 NaN\n",
       "39            NaN   NaN                 NaN\n",
       "39            NaN   NaN                 NaN\n",
       "39            NaN   NaN                 NaN"
      ]
     },
     "execution_count": 81,
     "metadata": {},
     "output_type": "execute_result"
    }
   ],
   "source": [
    "#show null value\n",
    "ford[ford.isnull().values==True]"
   ]
  },
  {
   "cell_type": "markdown",
   "id": "animated-resolution",
   "metadata": {},
   "source": [
    "### drop the row that all cells are null value"
   ]
  },
  {
   "cell_type": "code",
   "execution_count": 82,
   "id": "finished-malaysia",
   "metadata": {},
   "outputs": [],
   "source": [
    "#drop the row that all values are null values\n",
    "ford=ford.dropna(axis=0, how='all')"
   ]
  },
  {
   "cell_type": "code",
   "execution_count": 83,
   "id": "stuffed-essex",
   "metadata": {},
   "outputs": [
    {
     "data": {
      "text/html": [
       "<div>\n",
       "<style scoped>\n",
       "    .dataframe tbody tr th:only-of-type {\n",
       "        vertical-align: middle;\n",
       "    }\n",
       "\n",
       "    .dataframe tbody tr th {\n",
       "        vertical-align: top;\n",
       "    }\n",
       "\n",
       "    .dataframe thead th {\n",
       "        text-align: right;\n",
       "    }\n",
       "</style>\n",
       "<table border=\"1\" class=\"dataframe\">\n",
       "  <thead>\n",
       "    <tr style=\"text-align: right;\">\n",
       "      <th></th>\n",
       "      <th>Year</th>\n",
       "      <th>Month</th>\n",
       "      <th>ford-motor-company</th>\n",
       "    </tr>\n",
       "  </thead>\n",
       "  <tbody>\n",
       "    <tr>\n",
       "      <th>3</th>\n",
       "      <td>2005Apr260741</td>\n",
       "      <td>NaN</td>\n",
       "      <td>NaN</td>\n",
       "    </tr>\n",
       "    <tr>\n",
       "      <th>3</th>\n",
       "      <td>2005Apr260741</td>\n",
       "      <td>NaN</td>\n",
       "      <td>NaN</td>\n",
       "    </tr>\n",
       "  </tbody>\n",
       "</table>\n",
       "</div>"
      ],
      "text/plain": [
       "            Year Month  ford-motor-company\n",
       "3  2005Apr260741   NaN                 NaN\n",
       "3  2005Apr260741   NaN                 NaN"
      ]
     },
     "execution_count": 83,
     "metadata": {},
     "output_type": "execute_result"
    }
   ],
   "source": [
    "# check the left rows which contain null value\n",
    "ford[ford.isnull().values==True]"
   ]
  },
  {
   "cell_type": "markdown",
   "id": "hundred-korean",
   "metadata": {},
   "source": [
    "### fix the  rows with error"
   ]
  },
  {
   "cell_type": "code",
   "execution_count": 84,
   "id": "focal-evening",
   "metadata": {},
   "outputs": [
    {
     "data": {
      "text/html": [
       "<div>\n",
       "<style scoped>\n",
       "    .dataframe tbody tr th:only-of-type {\n",
       "        vertical-align: middle;\n",
       "    }\n",
       "\n",
       "    .dataframe tbody tr th {\n",
       "        vertical-align: top;\n",
       "    }\n",
       "\n",
       "    .dataframe thead th {\n",
       "        text-align: right;\n",
       "    }\n",
       "</style>\n",
       "<table border=\"1\" class=\"dataframe\">\n",
       "  <thead>\n",
       "    <tr style=\"text-align: right;\">\n",
       "      <th></th>\n",
       "      <th>Year</th>\n",
       "      <th>Month</th>\n",
       "      <th>ford-motor-company</th>\n",
       "    </tr>\n",
       "  </thead>\n",
       "  <tbody>\n",
       "    <tr>\n",
       "      <th>3</th>\n",
       "      <td>2005</td>\n",
       "      <td>Apr</td>\n",
       "      <td>260741.000</td>\n",
       "    </tr>\n",
       "    <tr>\n",
       "      <th>4</th>\n",
       "      <td>2005</td>\n",
       "      <td>May</td>\n",
       "      <td>263949.000</td>\n",
       "    </tr>\n",
       "  </tbody>\n",
       "</table>\n",
       "</div>"
      ],
      "text/plain": [
       "   Year Month  ford-motor-company\n",
       "3  2005   Apr          260741.000\n",
       "4  2005   May          263949.000"
      ]
     },
     "execution_count": 84,
     "metadata": {},
     "output_type": "execute_result"
    }
   ],
   "source": [
    "# fix the rows with error\n",
    "ford['ford-motor-company'][3]=ford['Year'][3][7:]\n",
    "ford['Month'][3]=ford['Year'][3][4:7]\n",
    "ford['Year'][3]=ford['Year'][3][0:4]\n",
    "\n",
    "#check if the error fix\n",
    "ford.iloc[3:5]"
   ]
  },
  {
   "cell_type": "markdown",
   "id": "worthy-recording",
   "metadata": {},
   "source": [
    "### drop the duplicated row"
   ]
  },
  {
   "cell_type": "code",
   "execution_count": 85,
   "id": "hundred-madagascar",
   "metadata": {},
   "outputs": [
    {
     "data": {
      "text/html": [
       "<div>\n",
       "<style scoped>\n",
       "    .dataframe tbody tr th:only-of-type {\n",
       "        vertical-align: middle;\n",
       "    }\n",
       "\n",
       "    .dataframe tbody tr th {\n",
       "        vertical-align: top;\n",
       "    }\n",
       "\n",
       "    .dataframe thead th {\n",
       "        text-align: right;\n",
       "    }\n",
       "</style>\n",
       "<table border=\"1\" class=\"dataframe\">\n",
       "  <thead>\n",
       "    <tr style=\"text-align: right;\">\n",
       "      <th></th>\n",
       "      <th>Year</th>\n",
       "      <th>Month</th>\n",
       "      <th>ford-motor-company</th>\n",
       "    </tr>\n",
       "  </thead>\n",
       "  <tbody>\n",
       "    <tr>\n",
       "      <th>18</th>\n",
       "      <td>2006</td>\n",
       "      <td>Jun</td>\n",
       "      <td>246815.000</td>\n",
       "    </tr>\n",
       "  </tbody>\n",
       "</table>\n",
       "</div>"
      ],
      "text/plain": [
       "    Year Month  ford-motor-company\n",
       "18  2006   Jun          246815.000"
      ]
     },
     "execution_count": 85,
     "metadata": {},
     "output_type": "execute_result"
    }
   ],
   "source": [
    "# check the duplicated rows\n",
    "ford[ford.duplicated()]"
   ]
  },
  {
   "cell_type": "code",
   "execution_count": 86,
   "id": "every-avatar",
   "metadata": {},
   "outputs": [
    {
     "data": {
      "text/html": [
       "<div>\n",
       "<style scoped>\n",
       "    .dataframe tbody tr th:only-of-type {\n",
       "        vertical-align: middle;\n",
       "    }\n",
       "\n",
       "    .dataframe tbody tr th {\n",
       "        vertical-align: top;\n",
       "    }\n",
       "\n",
       "    .dataframe thead th {\n",
       "        text-align: right;\n",
       "    }\n",
       "</style>\n",
       "<table border=\"1\" class=\"dataframe\">\n",
       "  <thead>\n",
       "    <tr style=\"text-align: right;\">\n",
       "      <th></th>\n",
       "      <th>Year</th>\n",
       "      <th>Month</th>\n",
       "      <th>ford-motor-company</th>\n",
       "    </tr>\n",
       "  </thead>\n",
       "  <tbody>\n",
       "  </tbody>\n",
       "</table>\n",
       "</div>"
      ],
      "text/plain": [
       "Empty DataFrame\n",
       "Columns: [Year, Month, ford-motor-company]\n",
       "Index: []"
      ]
     },
     "execution_count": 86,
     "metadata": {},
     "output_type": "execute_result"
    }
   ],
   "source": [
    "# drop the duplicated row\n",
    "ford.drop_duplicates(inplace = True)\n",
    "\n",
    "# check if duplicated row still exist\n",
    "ford[ford.duplicated()]"
   ]
  },
  {
   "cell_type": "markdown",
   "id": "invalid-light",
   "metadata": {},
   "source": [
    "### sort the rows by month"
   ]
  },
  {
   "cell_type": "code",
   "execution_count": 87,
   "id": "graduate-senator",
   "metadata": {},
   "outputs": [
    {
     "data": {
      "text/html": [
       "<div>\n",
       "<style scoped>\n",
       "    .dataframe tbody tr th:only-of-type {\n",
       "        vertical-align: middle;\n",
       "    }\n",
       "\n",
       "    .dataframe tbody tr th {\n",
       "        vertical-align: top;\n",
       "    }\n",
       "\n",
       "    .dataframe thead th {\n",
       "        text-align: right;\n",
       "    }\n",
       "</style>\n",
       "<table border=\"1\" class=\"dataframe\">\n",
       "  <thead>\n",
       "    <tr style=\"text-align: right;\">\n",
       "      <th></th>\n",
       "      <th>Year</th>\n",
       "      <th>Month</th>\n",
       "      <th>ford-motor-company</th>\n",
       "    </tr>\n",
       "  </thead>\n",
       "  <tbody>\n",
       "    <tr>\n",
       "      <th>25</th>\n",
       "      <td>2007</td>\n",
       "      <td>Mar</td>\n",
       "      <td>243541.000</td>\n",
       "    </tr>\n",
       "    <tr>\n",
       "      <th>26</th>\n",
       "      <td>2007</td>\n",
       "      <td>Feb</td>\n",
       "      <td>194310.000</td>\n",
       "    </tr>\n",
       "    <tr>\n",
       "      <th>27</th>\n",
       "      <td>2007</td>\n",
       "      <td>Jan</td>\n",
       "      <td>151416.000</td>\n",
       "    </tr>\n",
       "    <tr>\n",
       "      <th>28</th>\n",
       "      <td>2007</td>\n",
       "      <td>Apr</td>\n",
       "      <td>209694.000</td>\n",
       "    </tr>\n",
       "    <tr>\n",
       "      <th>29</th>\n",
       "      <td>2007</td>\n",
       "      <td>May</td>\n",
       "      <td>239579.000</td>\n",
       "    </tr>\n",
       "    <tr>\n",
       "      <th>30</th>\n",
       "      <td>2007</td>\n",
       "      <td>Jun</td>\n",
       "      <td>228376.000</td>\n",
       "    </tr>\n",
       "    <tr>\n",
       "      <th>31</th>\n",
       "      <td>2007</td>\n",
       "      <td>Jul</td>\n",
       "      <td>177167.000</td>\n",
       "    </tr>\n",
       "    <tr>\n",
       "      <th>32</th>\n",
       "      <td>2007</td>\n",
       "      <td>Aug</td>\n",
       "      <td>200401.000</td>\n",
       "    </tr>\n",
       "    <tr>\n",
       "      <th>33</th>\n",
       "      <td>2007</td>\n",
       "      <td>Sep</td>\n",
       "      <td>173554.000</td>\n",
       "    </tr>\n",
       "    <tr>\n",
       "      <th>34</th>\n",
       "      <td>2007</td>\n",
       "      <td>Oct</td>\n",
       "      <td>179652.000</td>\n",
       "    </tr>\n",
       "    <tr>\n",
       "      <th>35</th>\n",
       "      <td>2007</td>\n",
       "      <td>Nov</td>\n",
       "      <td>166565.000</td>\n",
       "    </tr>\n",
       "    <tr>\n",
       "      <th>36</th>\n",
       "      <td>2007</td>\n",
       "      <td>Dec</td>\n",
       "      <td>191729.000</td>\n",
       "    </tr>\n",
       "  </tbody>\n",
       "</table>\n",
       "</div>"
      ],
      "text/plain": [
       "    Year Month  ford-motor-company\n",
       "25  2007   Mar          243541.000\n",
       "26  2007   Feb          194310.000\n",
       "27  2007   Jan          151416.000\n",
       "28  2007   Apr          209694.000\n",
       "29  2007   May          239579.000\n",
       "30  2007   Jun          228376.000\n",
       "31  2007   Jul          177167.000\n",
       "32  2007   Aug          200401.000\n",
       "33  2007   Sep          173554.000\n",
       "34  2007   Oct          179652.000\n",
       "35  2007   Nov          166565.000\n",
       "36  2007   Dec          191729.000"
      ]
     },
     "execution_count": 87,
     "metadata": {},
     "output_type": "execute_result"
    }
   ],
   "source": [
    "# original row : ordered, changed row: Jan and Mar are exchanged\n",
    "ford[24:36]"
   ]
  },
  {
   "cell_type": "code",
   "execution_count": 88,
   "id": "exceptional-boating",
   "metadata": {},
   "outputs": [
    {
     "data": {
      "text/html": [
       "<div>\n",
       "<style scoped>\n",
       "    .dataframe tbody tr th:only-of-type {\n",
       "        vertical-align: middle;\n",
       "    }\n",
       "\n",
       "    .dataframe tbody tr th {\n",
       "        vertical-align: top;\n",
       "    }\n",
       "\n",
       "    .dataframe thead th {\n",
       "        text-align: right;\n",
       "    }\n",
       "</style>\n",
       "<table border=\"1\" class=\"dataframe\">\n",
       "  <thead>\n",
       "    <tr style=\"text-align: right;\">\n",
       "      <th></th>\n",
       "      <th>Year</th>\n",
       "      <th>Month</th>\n",
       "      <th>ford-motor-company</th>\n",
       "    </tr>\n",
       "  </thead>\n",
       "  <tbody>\n",
       "    <tr>\n",
       "      <th>27</th>\n",
       "      <td>2007</td>\n",
       "      <td>Jan</td>\n",
       "      <td>151416.000</td>\n",
       "    </tr>\n",
       "    <tr>\n",
       "      <th>26</th>\n",
       "      <td>2007</td>\n",
       "      <td>Feb</td>\n",
       "      <td>194310.000</td>\n",
       "    </tr>\n",
       "    <tr>\n",
       "      <th>25</th>\n",
       "      <td>2007</td>\n",
       "      <td>Mar</td>\n",
       "      <td>243541.000</td>\n",
       "    </tr>\n",
       "    <tr>\n",
       "      <th>28</th>\n",
       "      <td>2007</td>\n",
       "      <td>Apr</td>\n",
       "      <td>209694.000</td>\n",
       "    </tr>\n",
       "    <tr>\n",
       "      <th>29</th>\n",
       "      <td>2007</td>\n",
       "      <td>May</td>\n",
       "      <td>239579.000</td>\n",
       "    </tr>\n",
       "    <tr>\n",
       "      <th>30</th>\n",
       "      <td>2007</td>\n",
       "      <td>Jun</td>\n",
       "      <td>228376.000</td>\n",
       "    </tr>\n",
       "    <tr>\n",
       "      <th>31</th>\n",
       "      <td>2007</td>\n",
       "      <td>Jul</td>\n",
       "      <td>177167.000</td>\n",
       "    </tr>\n",
       "    <tr>\n",
       "      <th>32</th>\n",
       "      <td>2007</td>\n",
       "      <td>Aug</td>\n",
       "      <td>200401.000</td>\n",
       "    </tr>\n",
       "    <tr>\n",
       "      <th>33</th>\n",
       "      <td>2007</td>\n",
       "      <td>Sep</td>\n",
       "      <td>173554.000</td>\n",
       "    </tr>\n",
       "    <tr>\n",
       "      <th>34</th>\n",
       "      <td>2007</td>\n",
       "      <td>Oct</td>\n",
       "      <td>179652.000</td>\n",
       "    </tr>\n",
       "    <tr>\n",
       "      <th>35</th>\n",
       "      <td>2007</td>\n",
       "      <td>Nov</td>\n",
       "      <td>166565.000</td>\n",
       "    </tr>\n",
       "    <tr>\n",
       "      <th>36</th>\n",
       "      <td>2007</td>\n",
       "      <td>Dec</td>\n",
       "      <td>191729.000</td>\n",
       "    </tr>\n",
       "  </tbody>\n",
       "</table>\n",
       "</div>"
      ],
      "text/plain": [
       "    Year Month  ford-motor-company\n",
       "27  2007   Jan          151416.000\n",
       "26  2007   Feb          194310.000\n",
       "25  2007   Mar          243541.000\n",
       "28  2007   Apr          209694.000\n",
       "29  2007   May          239579.000\n",
       "30  2007   Jun          228376.000\n",
       "31  2007   Jul          177167.000\n",
       "32  2007   Aug          200401.000\n",
       "33  2007   Sep          173554.000\n",
       "34  2007   Oct          179652.000\n",
       "35  2007   Nov          166565.000\n",
       "36  2007   Dec          191729.000"
      ]
     },
     "execution_count": 88,
     "metadata": {},
     "output_type": "execute_result"
    }
   ],
   "source": [
    "# create a new column and sort by 'Year' and 'Month', then drop 'month_number'\n",
    "ford['month_number']=ford['Month'].replace(['Jan','Feb','Mar','Apr','May','Jun','Jul','Aug','Sep','Oct','Nov','Dec'],[1,2,3,4,5,6,7,8,9,10,11,12])\n",
    "ford=ford.sort_values(by=['Year','month_number'])\n",
    "ford=ford.drop(['month_number'],axis=1)\n",
    "ford[24:36]"
   ]
  },
  {
   "cell_type": "code",
   "execution_count": 89,
   "id": "expected-musical",
   "metadata": {},
   "outputs": [],
   "source": [
    "# remane the column name\n",
    "ford=ford.rename(columns={'ford-motor-company':'Ford'})\n",
    "\n",
    "# change the datatype of 'Ford' to intger \n",
    "ford['Ford']=ford['Ford'].astype(int)"
   ]
  },
  {
   "cell_type": "markdown",
   "id": "previous-depth",
   "metadata": {},
   "source": [
    "## 3. cleaning tesla-inc_carsales_src _dirty.csv"
   ]
  },
  {
   "cell_type": "code",
   "execution_count": 90,
   "id": "similar-mailman",
   "metadata": {},
   "outputs": [],
   "source": [
    "#read the Ford file\n",
    "tesla = pd.read_csv(\"tesla-inc_carsales_src _dirty.csv\", \n",
    "                                   encoding='ISO-8859-1')"
   ]
  },
  {
   "cell_type": "code",
   "execution_count": 91,
   "id": "hindu-continuity",
   "metadata": {},
   "outputs": [
    {
     "data": {
      "text/html": [
       "<div>\n",
       "<style scoped>\n",
       "    .dataframe tbody tr th:only-of-type {\n",
       "        vertical-align: middle;\n",
       "    }\n",
       "\n",
       "    .dataframe tbody tr th {\n",
       "        vertical-align: top;\n",
       "    }\n",
       "\n",
       "    .dataframe thead th {\n",
       "        text-align: right;\n",
       "    }\n",
       "</style>\n",
       "<table border=\"1\" class=\"dataframe\">\n",
       "  <thead>\n",
       "    <tr style=\"text-align: right;\">\n",
       "      <th></th>\n",
       "      <th>Year</th>\n",
       "      <th>Month</th>\n",
       "      <th>tesla-inc</th>\n",
       "      <th>Unnamed: 3</th>\n",
       "    </tr>\n",
       "  </thead>\n",
       "  <tbody>\n",
       "    <tr>\n",
       "      <th>0</th>\n",
       "      <td>2015</td>\n",
       "      <td>Jan</td>\n",
       "      <td>0</td>\n",
       "      <td>NaN</td>\n",
       "    </tr>\n",
       "    <tr>\n",
       "      <th>1</th>\n",
       "      <td>NaN</td>\n",
       "      <td>2015</td>\n",
       "      <td>Feb</td>\n",
       "      <td>2000.000</td>\n",
       "    </tr>\n",
       "    <tr>\n",
       "      <th>2</th>\n",
       "      <td>2015</td>\n",
       "      <td>Mar</td>\n",
       "      <td>1200</td>\n",
       "      <td>NaN</td>\n",
       "    </tr>\n",
       "    <tr>\n",
       "      <th>3</th>\n",
       "      <td>2015</td>\n",
       "      <td>Apr</td>\n",
       "      <td>1700</td>\n",
       "      <td>NaN</td>\n",
       "    </tr>\n",
       "    <tr>\n",
       "      <th>4</th>\n",
       "      <td>2015</td>\n",
       "      <td>May</td>\n",
       "      <td>1700</td>\n",
       "      <td>NaN</td>\n",
       "    </tr>\n",
       "    <tr>\n",
       "      <th>...</th>\n",
       "      <td>...</td>\n",
       "      <td>...</td>\n",
       "      <td>...</td>\n",
       "      <td>...</td>\n",
       "    </tr>\n",
       "    <tr>\n",
       "      <th>79</th>\n",
       "      <td>2021</td>\n",
       "      <td>Aug</td>\n",
       "      <td>0</td>\n",
       "      <td>NaN</td>\n",
       "    </tr>\n",
       "    <tr>\n",
       "      <th>80</th>\n",
       "      <td>2021</td>\n",
       "      <td>Sep</td>\n",
       "      <td>0</td>\n",
       "      <td>NaN</td>\n",
       "    </tr>\n",
       "    <tr>\n",
       "      <th>81</th>\n",
       "      <td>2021</td>\n",
       "      <td>Oct</td>\n",
       "      <td>0</td>\n",
       "      <td>NaN</td>\n",
       "    </tr>\n",
       "    <tr>\n",
       "      <th>82</th>\n",
       "      <td>2021</td>\n",
       "      <td>Nov</td>\n",
       "      <td>0</td>\n",
       "      <td>NaN</td>\n",
       "    </tr>\n",
       "    <tr>\n",
       "      <th>83</th>\n",
       "      <td>2021</td>\n",
       "      <td>Dec</td>\n",
       "      <td>0</td>\n",
       "      <td>NaN</td>\n",
       "    </tr>\n",
       "  </tbody>\n",
       "</table>\n",
       "<p>84 rows × 4 columns</p>\n",
       "</div>"
      ],
      "text/plain": [
       "    Year Month tesla-inc  Unnamed: 3\n",
       "0   2015   Jan         0         NaN\n",
       "1    NaN  2015       Feb    2000.000\n",
       "2   2015   Mar      1200         NaN\n",
       "3   2015   Apr      1700         NaN\n",
       "4   2015   May      1700         NaN\n",
       "..   ...   ...       ...         ...\n",
       "79  2021   Aug         0         NaN\n",
       "80  2021   Sep         0         NaN\n",
       "81  2021   Oct         0         NaN\n",
       "82  2021   Nov         0         NaN\n",
       "83  2021   Dec         0         NaN\n",
       "\n",
       "[84 rows x 4 columns]"
      ]
     },
     "execution_count": 91,
     "metadata": {},
     "output_type": "execute_result"
    }
   ],
   "source": [
    "#show null value\n",
    "tesla[tesla.isnull().values==True]"
   ]
  },
  {
   "cell_type": "markdown",
   "id": "laden-beauty",
   "metadata": {},
   "source": [
    "### fix the moved row"
   ]
  },
  {
   "cell_type": "code",
   "execution_count": 92,
   "id": "blocked-valuable",
   "metadata": {},
   "outputs": [
    {
     "data": {
      "text/html": [
       "<div>\n",
       "<style scoped>\n",
       "    .dataframe tbody tr th:only-of-type {\n",
       "        vertical-align: middle;\n",
       "    }\n",
       "\n",
       "    .dataframe tbody tr th {\n",
       "        vertical-align: top;\n",
       "    }\n",
       "\n",
       "    .dataframe thead th {\n",
       "        text-align: right;\n",
       "    }\n",
       "</style>\n",
       "<table border=\"1\" class=\"dataframe\">\n",
       "  <thead>\n",
       "    <tr style=\"text-align: right;\">\n",
       "      <th></th>\n",
       "      <th>Year</th>\n",
       "      <th>Month</th>\n",
       "      <th>tesla-inc</th>\n",
       "      <th>Unnamed: 3</th>\n",
       "    </tr>\n",
       "  </thead>\n",
       "  <tbody>\n",
       "    <tr>\n",
       "      <th>0</th>\n",
       "      <td>2015</td>\n",
       "      <td>Jan</td>\n",
       "      <td>0</td>\n",
       "      <td>NaN</td>\n",
       "    </tr>\n",
       "    <tr>\n",
       "      <th>1</th>\n",
       "      <td>NaN</td>\n",
       "      <td>2015</td>\n",
       "      <td>Feb</td>\n",
       "      <td>2000.000</td>\n",
       "    </tr>\n",
       "    <tr>\n",
       "      <th>2</th>\n",
       "      <td>2015</td>\n",
       "      <td>Mar</td>\n",
       "      <td>1200</td>\n",
       "      <td>NaN</td>\n",
       "    </tr>\n",
       "    <tr>\n",
       "      <th>3</th>\n",
       "      <td>2015</td>\n",
       "      <td>Apr</td>\n",
       "      <td>1700</td>\n",
       "      <td>NaN</td>\n",
       "    </tr>\n",
       "    <tr>\n",
       "      <th>4</th>\n",
       "      <td>2015</td>\n",
       "      <td>May</td>\n",
       "      <td>1700</td>\n",
       "      <td>NaN</td>\n",
       "    </tr>\n",
       "    <tr>\n",
       "      <th>...</th>\n",
       "      <td>...</td>\n",
       "      <td>...</td>\n",
       "      <td>...</td>\n",
       "      <td>...</td>\n",
       "    </tr>\n",
       "    <tr>\n",
       "      <th>79</th>\n",
       "      <td>2021</td>\n",
       "      <td>Aug</td>\n",
       "      <td>0</td>\n",
       "      <td>NaN</td>\n",
       "    </tr>\n",
       "    <tr>\n",
       "      <th>80</th>\n",
       "      <td>2021</td>\n",
       "      <td>Sep</td>\n",
       "      <td>0</td>\n",
       "      <td>NaN</td>\n",
       "    </tr>\n",
       "    <tr>\n",
       "      <th>81</th>\n",
       "      <td>2021</td>\n",
       "      <td>Oct</td>\n",
       "      <td>0</td>\n",
       "      <td>NaN</td>\n",
       "    </tr>\n",
       "    <tr>\n",
       "      <th>82</th>\n",
       "      <td>2021</td>\n",
       "      <td>Nov</td>\n",
       "      <td>0</td>\n",
       "      <td>NaN</td>\n",
       "    </tr>\n",
       "    <tr>\n",
       "      <th>83</th>\n",
       "      <td>2021</td>\n",
       "      <td>Dec</td>\n",
       "      <td>0</td>\n",
       "      <td>NaN</td>\n",
       "    </tr>\n",
       "  </tbody>\n",
       "</table>\n",
       "<p>84 rows × 4 columns</p>\n",
       "</div>"
      ],
      "text/plain": [
       "    Year Month tesla-inc  Unnamed: 3\n",
       "0   2015   Jan         0         NaN\n",
       "1    NaN  2015       Feb    2000.000\n",
       "2   2015   Mar      1200         NaN\n",
       "3   2015   Apr      1700         NaN\n",
       "4   2015   May      1700         NaN\n",
       "..   ...   ...       ...         ...\n",
       "79  2021   Aug         0         NaN\n",
       "80  2021   Sep         0         NaN\n",
       "81  2021   Oct         0         NaN\n",
       "82  2021   Nov         0         NaN\n",
       "83  2021   Dec         0         NaN\n",
       "\n",
       "[84 rows x 4 columns]"
      ]
     },
     "execution_count": 92,
     "metadata": {},
     "output_type": "execute_result"
    }
   ],
   "source": [
    "# it is observed that row (index 2) is shifted\n",
    "tesla"
   ]
  },
  {
   "cell_type": "code",
   "execution_count": 93,
   "id": "satisfactory-needle",
   "metadata": {},
   "outputs": [
    {
     "name": "stderr",
     "output_type": "stream",
     "text": [
      "<ipython-input-93-022bbcae8d36>:2: SettingWithCopyWarning: \n",
      "A value is trying to be set on a copy of a slice from a DataFrame\n",
      "\n",
      "See the caveats in the documentation: https://pandas.pydata.org/pandas-docs/stable/user_guide/indexing.html#returning-a-view-versus-a-copy\n",
      "  tesla['Year'][1]=tesla['Month'][1]\n",
      "<ipython-input-93-022bbcae8d36>:3: SettingWithCopyWarning: \n",
      "A value is trying to be set on a copy of a slice from a DataFrame\n",
      "\n",
      "See the caveats in the documentation: https://pandas.pydata.org/pandas-docs/stable/user_guide/indexing.html#returning-a-view-versus-a-copy\n",
      "  tesla['Month'][1]=tesla['tesla-inc'][1]\n",
      "<ipython-input-93-022bbcae8d36>:4: SettingWithCopyWarning: \n",
      "A value is trying to be set on a copy of a slice from a DataFrame\n",
      "\n",
      "See the caveats in the documentation: https://pandas.pydata.org/pandas-docs/stable/user_guide/indexing.html#returning-a-view-versus-a-copy\n",
      "  tesla['tesla-inc'][1]=tesla['Unnamed: 3'][1]\n"
     ]
    },
    {
     "data": {
      "text/html": [
       "<div>\n",
       "<style scoped>\n",
       "    .dataframe tbody tr th:only-of-type {\n",
       "        vertical-align: middle;\n",
       "    }\n",
       "\n",
       "    .dataframe tbody tr th {\n",
       "        vertical-align: top;\n",
       "    }\n",
       "\n",
       "    .dataframe thead th {\n",
       "        text-align: right;\n",
       "    }\n",
       "</style>\n",
       "<table border=\"1\" class=\"dataframe\">\n",
       "  <thead>\n",
       "    <tr style=\"text-align: right;\">\n",
       "      <th></th>\n",
       "      <th>Year</th>\n",
       "      <th>Month</th>\n",
       "      <th>tesla-inc</th>\n",
       "    </tr>\n",
       "  </thead>\n",
       "  <tbody>\n",
       "    <tr>\n",
       "      <th>0</th>\n",
       "      <td>2015</td>\n",
       "      <td>Jan</td>\n",
       "      <td>0</td>\n",
       "    </tr>\n",
       "    <tr>\n",
       "      <th>1</th>\n",
       "      <td>2015</td>\n",
       "      <td>Feb</td>\n",
       "      <td>2000.0</td>\n",
       "    </tr>\n",
       "    <tr>\n",
       "      <th>2</th>\n",
       "      <td>2015</td>\n",
       "      <td>Mar</td>\n",
       "      <td>1200</td>\n",
       "    </tr>\n",
       "    <tr>\n",
       "      <th>3</th>\n",
       "      <td>2015</td>\n",
       "      <td>Apr</td>\n",
       "      <td>1700</td>\n",
       "    </tr>\n",
       "    <tr>\n",
       "      <th>4</th>\n",
       "      <td>2015</td>\n",
       "      <td>May</td>\n",
       "      <td>1700</td>\n",
       "    </tr>\n",
       "    <tr>\n",
       "      <th>5</th>\n",
       "      <td>2015</td>\n",
       "      <td>Jun</td>\n",
       "      <td>1700</td>\n",
       "    </tr>\n",
       "    <tr>\n",
       "      <th>6</th>\n",
       "      <td>2015</td>\n",
       "      <td>Jul</td>\n",
       "      <td>1700</td>\n",
       "    </tr>\n",
       "    <tr>\n",
       "      <th>7</th>\n",
       "      <td>2015</td>\n",
       "      <td>Aug</td>\n",
       "      <td>1700</td>\n",
       "    </tr>\n",
       "    <tr>\n",
       "      <th>8</th>\n",
       "      <td>2015</td>\n",
       "      <td>Sep</td>\n",
       "      <td>1700</td>\n",
       "    </tr>\n",
       "    <tr>\n",
       "      <th>9</th>\n",
       "      <td>2015</td>\n",
       "      <td>Oct</td>\n",
       "      <td>1730</td>\n",
       "    </tr>\n",
       "  </tbody>\n",
       "</table>\n",
       "</div>"
      ],
      "text/plain": [
       "   Year Month tesla-inc\n",
       "0  2015   Jan         0\n",
       "1  2015   Feb    2000.0\n",
       "2  2015   Mar      1200\n",
       "3  2015   Apr      1700\n",
       "4  2015   May      1700\n",
       "5  2015   Jun      1700\n",
       "6  2015   Jul      1700\n",
       "7  2015   Aug      1700\n",
       "8  2015   Sep      1700\n",
       "9  2015   Oct      1730"
      ]
     },
     "execution_count": 93,
     "metadata": {},
     "output_type": "execute_result"
    }
   ],
   "source": [
    "# fix the moved row\n",
    "tesla['Year'][1]=tesla['Month'][1]\n",
    "tesla['Month'][1]=tesla['tesla-inc'][1]\n",
    "tesla['tesla-inc'][1]=tesla['Unnamed: 3'][1]\n",
    "tesla=tesla.drop(['Unnamed: 3'],axis=1)\n",
    "tesla.head(10)"
   ]
  },
  {
   "cell_type": "markdown",
   "id": "awful-morris",
   "metadata": {},
   "source": [
    "### fix the abnormal string"
   ]
  },
  {
   "cell_type": "code",
   "execution_count": 94,
   "id": "joined-joining",
   "metadata": {},
   "outputs": [
    {
     "name": "stdout",
     "output_type": "stream",
     "text": [
      "2019     12\n",
      "2021     12\n",
      "2020     12\n",
      "2017     12\n",
      "2015     12\n",
      "2016     12\n",
      "2018     11\n",
      "20 18     1\n",
      "Name: Year, dtype: int64\n",
      "********************\n",
      "     Year Month tesla-inc\n",
      "43  20 18   Aug     21700\n"
     ]
    }
   ],
   "source": [
    "# show the abnormal string in 'Year', '20 18' is found\n",
    "print(tesla['Year'].value_counts())\n",
    "print('*'*20)\n",
    "print(tesla.loc[tesla['Year']=='20 18'])\n",
    "\n",
    "# replace the abnormal string\n",
    "tesla['Year'][43]=tesla['Year'][43].replace(' ','')"
   ]
  },
  {
   "cell_type": "code",
   "execution_count": 95,
   "id": "aboriginal-research",
   "metadata": {},
   "outputs": [
    {
     "name": "stdout",
     "output_type": "stream",
     "text": [
      "May     7\n",
      "Sep     7\n",
      "Dec     7\n",
      "Oct     7\n",
      "Mar     7\n",
      "Apr     7\n",
      "Aug     7\n",
      "Jun     7\n",
      "Nov     7\n",
      "Feb     7\n",
      "Jul     7\n",
      "Jan     6\n",
      "Jan%    1\n",
      "Name: Month, dtype: int64\n",
      "********************\n",
      "    Year Month tesla-inc\n",
      "24  2017  Jan%      2800\n"
     ]
    }
   ],
   "source": [
    "# show the abnormal string in 'Month', 'Jan%' is found\n",
    "print(tesla['Month'].value_counts())\n",
    "print('*'*20)\n",
    "print(tesla.loc[tesla['Month']=='Jan%'])\n",
    "\n",
    "# replace the abnormal string\n",
    "tesla['Month'][24]=tesla['Month'][24].replace('%','')"
   ]
  },
  {
   "cell_type": "code",
   "execution_count": 96,
   "id": "higher-footwear",
   "metadata": {},
   "outputs": [],
   "source": [
    "# remane the column name\n",
    "tesla=tesla.rename(columns={'tesla-inc':'Tesla'})\n",
    "\n",
    "# change the datatype of 'Tesla' to intger \n",
    "tesla['Tesla']=tesla['Tesla'].astype(int)"
   ]
  },
  {
   "cell_type": "markdown",
   "id": "olympic-start",
   "metadata": {},
   "source": [
    "## merge three dataset"
   ]
  },
  {
   "cell_type": "code",
   "execution_count": 97,
   "id": "personal-pasta",
   "metadata": {},
   "outputs": [],
   "source": [
    "# create a new column which combines 'Year' and 'Month', and remove 'Year' and 'Month'\n",
    "def process(name):\n",
    "    name['Year']=name['Year'].astype(str)\n",
    "    name['year_month'] = name['Year'] + \".\" + name['Month']\n",
    "    name = name.drop(labels=['Year','Month'],axis=1)\n",
    "    cols_name = name.columns.tolist()\n",
    "    cols_name = cols_name[-1:] + cols_name[:-1]\n",
    "    cols_name\n",
    "    name = name[cols_name]\n",
    "    return name\n",
    "\n",
    "GM1=process(gm)\n",
    "FORD1=process(ford)\n",
    "TESLA1=process(tesla)"
   ]
  },
  {
   "cell_type": "code",
   "execution_count": 98,
   "id": "front-engagement",
   "metadata": {},
   "outputs": [],
   "source": [
    "# merge the dataset\n",
    "total = pd.merge(GM1,FORD1,how='left',on = 'year_month')\n",
    "total1 = pd.merge(total,TESLA1,how='left',on = 'year_month')\n",
    "\n",
    "# instead null value with 0 in total1['Tesla']\n",
    "total1['Tesla']=total1['Tesla'].fillna(0)\n",
    "total1['Tesla']=total1['Tesla'].astype(int)\n",
    "\n",
    "# outpot file\n",
    "total1.to_csv(\"carsales_stage.csv\", index=False)"
   ]
  },
  {
   "cell_type": "code",
   "execution_count": 99,
   "id": "considered-coast",
   "metadata": {},
   "outputs": [
    {
     "data": {
      "text/html": [
       "<div>\n",
       "<style scoped>\n",
       "    .dataframe tbody tr th:only-of-type {\n",
       "        vertical-align: middle;\n",
       "    }\n",
       "\n",
       "    .dataframe tbody tr th {\n",
       "        vertical-align: top;\n",
       "    }\n",
       "\n",
       "    .dataframe thead th {\n",
       "        text-align: right;\n",
       "    }\n",
       "</style>\n",
       "<table border=\"1\" class=\"dataframe\">\n",
       "  <thead>\n",
       "    <tr style=\"text-align: right;\">\n",
       "      <th></th>\n",
       "      <th>year_month</th>\n",
       "      <th>Gm</th>\n",
       "      <th>Ford</th>\n",
       "      <th>Tesla</th>\n",
       "    </tr>\n",
       "  </thead>\n",
       "  <tbody>\n",
       "    <tr>\n",
       "      <th>0</th>\n",
       "      <td>2005.Jan</td>\n",
       "      <td>269125</td>\n",
       "      <td>183379</td>\n",
       "      <td>0</td>\n",
       "    </tr>\n",
       "    <tr>\n",
       "      <th>1</th>\n",
       "      <td>2005.Feb</td>\n",
       "      <td>241446</td>\n",
       "      <td>234208</td>\n",
       "      <td>0</td>\n",
       "    </tr>\n",
       "    <tr>\n",
       "      <th>2</th>\n",
       "      <td>2005.Mar</td>\n",
       "      <td>409418</td>\n",
       "      <td>281906</td>\n",
       "      <td>0</td>\n",
       "    </tr>\n",
       "    <tr>\n",
       "      <th>3</th>\n",
       "      <td>2005.Apr</td>\n",
       "      <td>368088</td>\n",
       "      <td>260741</td>\n",
       "      <td>0</td>\n",
       "    </tr>\n",
       "    <tr>\n",
       "      <th>4</th>\n",
       "      <td>2005.May</td>\n",
       "      <td>372586</td>\n",
       "      <td>263949</td>\n",
       "      <td>0</td>\n",
       "    </tr>\n",
       "    <tr>\n",
       "      <th>...</th>\n",
       "      <td>...</td>\n",
       "      <td>...</td>\n",
       "      <td>...</td>\n",
       "      <td>...</td>\n",
       "    </tr>\n",
       "    <tr>\n",
       "      <th>199</th>\n",
       "      <td>2021.Aug</td>\n",
       "      <td>0</td>\n",
       "      <td>0</td>\n",
       "      <td>0</td>\n",
       "    </tr>\n",
       "    <tr>\n",
       "      <th>200</th>\n",
       "      <td>2021.Sep</td>\n",
       "      <td>0</td>\n",
       "      <td>0</td>\n",
       "      <td>0</td>\n",
       "    </tr>\n",
       "    <tr>\n",
       "      <th>201</th>\n",
       "      <td>2021.Oct</td>\n",
       "      <td>0</td>\n",
       "      <td>0</td>\n",
       "      <td>0</td>\n",
       "    </tr>\n",
       "    <tr>\n",
       "      <th>202</th>\n",
       "      <td>2021.Nov</td>\n",
       "      <td>0</td>\n",
       "      <td>0</td>\n",
       "      <td>0</td>\n",
       "    </tr>\n",
       "    <tr>\n",
       "      <th>203</th>\n",
       "      <td>2021.Dec</td>\n",
       "      <td>0</td>\n",
       "      <td>0</td>\n",
       "      <td>0</td>\n",
       "    </tr>\n",
       "  </tbody>\n",
       "</table>\n",
       "<p>204 rows × 4 columns</p>\n",
       "</div>"
      ],
      "text/plain": [
       "    year_month      Gm    Ford  Tesla\n",
       "0     2005.Jan  269125  183379      0\n",
       "1     2005.Feb  241446  234208      0\n",
       "2     2005.Mar  409418  281906      0\n",
       "3     2005.Apr  368088  260741      0\n",
       "4     2005.May  372586  263949      0\n",
       "..         ...     ...     ...    ...\n",
       "199   2021.Aug       0       0      0\n",
       "200   2021.Sep       0       0      0\n",
       "201   2021.Oct       0       0      0\n",
       "202   2021.Nov       0       0      0\n",
       "203   2021.Dec       0       0      0\n",
       "\n",
       "[204 rows x 4 columns]"
      ]
     },
     "execution_count": 99,
     "metadata": {},
     "output_type": "execute_result"
    }
   ],
   "source": [
    "total1"
   ]
  },
  {
   "cell_type": "code",
   "execution_count": null,
   "id": "outer-consequence",
   "metadata": {},
   "outputs": [],
   "source": []
  }
 ],
 "metadata": {
  "kernelspec": {
   "display_name": "Python 3",
   "language": "python",
   "name": "python3"
  },
  "language_info": {
   "codemirror_mode": {
    "name": "ipython",
    "version": 3
   },
   "file_extension": ".py",
   "mimetype": "text/x-python",
   "name": "python",
   "nbconvert_exporter": "python",
   "pygments_lexer": "ipython3",
   "version": "3.8.5"
  }
 },
 "nbformat": 4,
 "nbformat_minor": 5
}
